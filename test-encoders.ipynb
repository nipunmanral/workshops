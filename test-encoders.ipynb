{
 "cells": [
  {
   "cell_type": "markdown",
   "metadata": {},
   "source": [
    "# Setup\n",
    "\n",
    "Before running this code we need to install an additional Python library to read the inputs from the encoder. For that run in the terminal\n",
    "\n",
    "```\n",
    "sudo apt install python3-rpi.gpio\n",
    "```\n",
    "\n",
    "Next update the raceon file from the GitHub which now should include the Encoders class."
   ]
  },
  {
   "cell_type": "code",
   "execution_count": 29,
   "metadata": {},
   "outputs": [],
   "source": [
    "import RPi.GPIO as GPIO\n",
    "import time\n",
    "from raceon import PWM\n",
    "\n",
    "import matplotlib.pyplot as plt\n",
    "\n",
    "GPIO.setmode(GPIO.BCM)"
   ]
  },
  {
   "cell_type": "code",
   "execution_count": null,
   "metadata": {},
   "outputs": [],
   "source": []
  },
  {
   "cell_type": "code",
   "execution_count": 30,
   "metadata": {},
   "outputs": [],
   "source": [
    "# Enable servo\n",
    "MOTOR_BRAKE = 1000000\n",
    "\n",
    "motor = PWM(0)\n",
    "motor.period = 20000000\n",
    "motor.duty_cycle = MOTOR_BRAKE\n",
    "motor.enable = True"
   ]
  },
  {
   "cell_type": "code",
   "execution_count": 31,
   "metadata": {},
   "outputs": [],
   "source": [
    "class Encoders:\n",
    "    def __init__(self, left_channel, right_channel):\n",
    "        self.LEFT  = left_channel\n",
    "        self.RIGHT = right_channel\n",
    "        \n",
    "        self.counter_left  = 0\n",
    "        self.counter_right = 0\n",
    "        \n",
    "    def __call__(self, channel):\n",
    "        if chann\n",
    "        self.count += 1\n",
    "        \n",
    "    def read(self):\n",
    "        c = self.count\n",
    "        self.count = 0\n",
    "        return c"
   ]
  },
  {
   "cell_type": "code",
   "execution_count": 32,
   "metadata": {},
   "outputs": [],
   "source": [
    "ENCODER_LEFT  = 27\n",
    "ENCODER_RIGHT = 25"
   ]
  },
  {
   "cell_type": "code",
   "execution_count": 46,
   "metadata": {},
   "outputs": [],
   "source": [
    "GPIO.setup(ENCODER_LEFT, GPIO.IN)\n",
    "GPIO.setup(ENCODER_RIGHT, GPIO.IN)\n",
    "\n",
    "lc = Counter()\n",
    "rc = Counter()"
   ]
  },
  {
   "cell_type": "code",
   "execution_count": 50,
   "metadata": {},
   "outputs": [],
   "source": [
    "# GPIO.add_event_detect(ENCODER_LEFT, GPIO.BOTH, callback=lc, bouncetime=1)\n",
    "GPIO.add_event_detect(ENCODER_LEFT, GPIO.BOTH, callback=lc)\n",
    "GPIO.add_event_detect(ENCODER_RIGHT, GPIO.BOTH, callback=rc)"
   ]
  },
  {
   "cell_type": "code",
   "execution_count": 52,
   "metadata": {},
   "outputs": [
    {
     "name": "stdout",
     "output_type": "stream",
     "text": [
      "0 0\n",
      "0 0 0\n",
      "0 0\n",
      "10000 0 0\n",
      "0 0\n",
      "20000 0 0\n",
      "0 0\n",
      "30000 0 0\n",
      "0 0\n",
      "40000 0 0\n",
      "0 0\n",
      "50000 0 0\n",
      "0 0\n",
      "60000 0 0\n",
      "0 0\n",
      "70000 0 0\n",
      "4 3\n",
      "80000 1 3\n",
      "1 3\n",
      "90000 0 0\n",
      "0 0\n",
      "100000 0 0\n",
      "0 0\n",
      "110000 0 0\n",
      "0 0\n",
      "120000 0 0\n",
      "0 0\n",
      "130000 0 0\n",
      "0 0\n",
      "140000 0 0\n",
      "10 9\n",
      "150000 4 4\n",
      "31 30\n",
      "160000 6 6\n",
      "41 40\n",
      "170000 7 7\n",
      "46 45\n",
      "180000 8 8\n",
      "51 50\n",
      "190000 9 9\n",
      "55 54\n",
      "200000 10 10\n",
      "61 60\n",
      "210000 10 10\n",
      "66 65\n",
      "220000 11 11\n",
      "71 71\n",
      "230000 12 13\n",
      "75 74\n",
      "240000 13 13\n",
      "79 77\n",
      "250000 13 13\n",
      "82 81\n",
      "260000 14 14\n",
      "84 83\n",
      "270000 14 15\n",
      "87 86\n",
      "280000 15 15\n",
      "91 90\n",
      "290000 15 16\n",
      "94 93\n",
      "300000 16 16\n",
      "98 96\n",
      "310000 16 17\n",
      "101 99\n",
      "320000 17 17\n",
      "105 102\n",
      "330000 17 17\n",
      "109 107\n",
      "340000 18 18\n",
      "113 111\n",
      "350000 19 19\n",
      "119 117\n",
      "360000 20 20\n",
      "124 123\n",
      "370000 21 21\n",
      "129 127\n",
      "380000 22 22\n",
      "132 131\n",
      "390000 22 22\n",
      "135 134\n",
      "400000 22 23\n",
      "138 138\n",
      "410000 23 23\n",
      "142 141\n",
      "420000 24 24\n",
      "143 143\n",
      "430000 24 25\n",
      "147 146\n",
      "440000 25 24\n",
      "150 148\n",
      "450000 25 25\n",
      "152 149\n",
      "460000 25 26\n",
      "152 153\n",
      "470000 25 26\n",
      "156 154\n",
      "480000 27 27\n",
      "156 156\n",
      "490000 26 27\n",
      "158 158\n",
      "500000 26 27\n",
      "161 160\n",
      "510000 27 27\n",
      "161 160\n",
      "520000 27 27\n",
      "163 161\n",
      "530000 28 28\n",
      "165 163\n",
      "540000 28 27\n",
      "166 165\n",
      "550000 28 29\n",
      "168 167\n",
      "560000 27 27\n",
      "171 169\n",
      "570000 29 28\n",
      "170 169\n",
      "580000 27 28\n",
      "173 171\n",
      "590000 28 28\n",
      "174 171\n",
      "600000 29 28\n",
      "176 175\n",
      "610000 29 28\n",
      "176 176\n",
      "620000 29 30\n",
      "179 176\n",
      "630000 30 29\n",
      "179 178\n",
      "640000 30 29\n",
      "182 181\n",
      "650000 29 31\n",
      "184 183\n",
      "660000 31 31\n",
      "186 184\n",
      "670000 31 30\n",
      "189 186\n",
      "680000 32 32\n",
      "189 187\n",
      "690000 30 32\n"
     ]
    }
   ],
   "source": [
    "pwr  = []\n",
    "encl = []\n",
    "encr = []\n",
    "\n",
    "for i in range(70):\n",
    "    pwr.append(i * 10000)\n",
    "    motor.duty_cycle = MOTOR_BRAKE + pwr[-1]\n",
    "    \n",
    "    time.sleep(0.3)\n",
    "    print(rc.read(), lc.read())\n",
    "    \n",
    "    time.sleep(0.05)\n",
    "    encl.append(lc.read())\n",
    "    encr.append(rc.read())\n",
    "    print(pwr[-1], encl[-1], encr[-1])\n",
    "    \n",
    "motor.duty_cycle = MOTOR_BRAKE"
   ]
  },
  {
   "cell_type": "code",
   "execution_count": 49,
   "metadata": {},
   "outputs": [],
   "source": [
    "GPIO.remove_event_detect(ENCODER_LEFT)\n",
    "GPIO.remove_event_detect(ENCODER_RIGHT)"
   ]
  },
  {
   "cell_type": "code",
   "execution_count": 53,
   "metadata": {},
   "outputs": [
    {
     "data": {
      "text/plain": [
       "[<matplotlib.lines.Line2D at 0x677bc5b0>]"
      ]
     },
     "execution_count": 53,
     "metadata": {},
     "output_type": "execute_result"
    },
    {
     "data": {
      "image/png": "[encoded data removed]",
      "text/plain": [
       "<Figure size 432x288 with 1 Axes>"
      ]
     },
     "metadata": {
      "needs_background": "light"
     },
     "output_type": "display_data"
    }
   ],
   "source": [
    "plt.plot(pwr, encl)\n",
    "plt.plot(pwr, encr)"
   ]
  },
  {
   "cell_type": "code",
   "execution_count": 44,
   "metadata": {},
   "outputs": [
    {
     "data": {
      "text/plain": [
       "[<matplotlib.lines.Line2D at 0x678028b0>]"
      ]
     },
     "execution_count": 44,
     "metadata": {},
     "output_type": "execute_result"
    },
    {
     "data": {
      "image/png": "[encoded data removed]",
      "text/plain": [
       "<Figure size 432x288 with 1 Axes>"
      ]
     },
     "metadata": {
      "needs_background": "light"
     },
     "output_type": "display_data"
    }
   ],
   "source": [
    "plt.plot(pwr, enc)"
   ]
  },
  {
   "cell_type": "code",
   "execution_count": null,
   "metadata": {},
   "outputs": [],
   "source": []
  }
 ],
 "metadata": {
  "kernelspec": {
   "display_name": "Python 3",
   "language": "python",
   "name": "python3"
  },
  "language_info": {
   "codemirror_mode": {
    "name": "ipython",
    "version": 3
   },
   "file_extension": ".py",
   "mimetype": "text/x-python",
   "name": "python",
   "nbconvert_exporter": "python",
   "pygments_lexer": "ipython3",
   "version": "3.7.3"
  }
 },
 "nbformat": 4,
 "nbformat_minor": 4
}
