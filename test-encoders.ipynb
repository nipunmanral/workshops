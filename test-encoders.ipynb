{
 "cells": [
  {
   "cell_type": "code",
   "execution_count": 1,
   "metadata": {},
   "outputs": [],
   "source": [
    "import time\n",
    "import numpy as np\n",
    "from raceon import PWM, Encoders\n",
    "\n",
    "import matplotlib.pyplot as plt"
   ]
  },
  {
   "cell_type": "code",
   "execution_count": 2,
   "metadata": {},
   "outputs": [],
   "source": [
    "# Enable servo\n",
    "MOTOR_BRAKE = 1000000\n",
    "\n",
    "motor = PWM(0)\n",
    "motor.period = 20000000\n",
    "motor.duty_cycle = MOTOR_BRAKE\n",
    "motor.enable = True"
   ]
  },
  {
   "cell_type": "code",
   "execution_count": 3,
   "metadata": {},
   "outputs": [],
   "source": [
    "enc = Encoders(27, 25)"
   ]
  },
  {
   "cell_type": "code",
   "execution_count": 7,
   "metadata": {},
   "outputs": [
    {
     "name": "stdout",
     "output_type": "stream",
     "text": [
      "0 (0, 0)\n",
      "10000 (0, 0)\n",
      "20000 (0, 0)\n",
      "30000 (0, 0)\n",
      "40000 (0, 0)\n",
      "50000 (0, 0)\n",
      "60000 (0, 0)\n",
      "70000 (0, 0)\n",
      "80000 (0, 0)\n",
      "90000 (0, 2)\n",
      "100000 (0, 5)\n",
      "110000 (0, 5)\n",
      "120000 (0, 8)\n",
      "130000 (0, 9)\n",
      "140000 (0, 10)\n",
      "150000 (0, 7)\n",
      "160000 (0, 9)\n",
      "170000 (0, 9)\n",
      "180000 (0, 11)\n",
      "190000 (0, 13)\n",
      "200000 (0, 13)\n",
      "210000 (0, 16)\n",
      "220000 (0, 14)\n",
      "230000 (0, 14)\n",
      "240000 (0, 14)\n",
      "250000 (0, 17)\n",
      "260000 (0, 19)\n",
      "270000 (0, 18)\n",
      "280000 (0, 18)\n",
      "290000 (0, 20)\n",
      "300000 (0, 20)\n",
      "310000 (0, 22)\n",
      "320000 (0, 24)\n",
      "330000 (0, 23)\n",
      "340000 (0, 23)\n",
      "350000 (0, 27)\n",
      "360000 (0, 25)\n",
      "370000 (0, 25)\n",
      "380000 (0, 28)\n",
      "390000 (0, 28)\n",
      "400000 (0, 28)\n",
      "410000 (0, 27)\n",
      "420000 (0, 28)\n",
      "430000 (0, 27)\n",
      "440000 (0, 30)\n",
      "450000 (0, 31)\n",
      "460000 (0, 31)\n",
      "470000 (0, 31)\n",
      "480000 (0, 31)\n",
      "490000 (0, 30)\n",
      "500000 (0, 30)\n",
      "510000 (0, 32)\n",
      "520000 (0, 33)\n",
      "530000 (0, 32)\n",
      "540000 (0, 32)\n",
      "550000 (0, 32)\n",
      "560000 (0, 33)\n",
      "570000 (0, 34)\n",
      "580000 (0, 32)\n",
      "590000 (0, 34)\n",
      "600000 (0, 34)\n",
      "610000 (0, 34)\n",
      "620000 (0, 35)\n",
      "630000 (0, 35)\n",
      "640000 (0, 36)\n",
      "650000 (0, 36)\n",
      "660000 (0, 40)\n",
      "670000 (0, 38)\n",
      "680000 (0, 37)\n",
      "690000 (0, 38)\n"
     ]
    }
   ],
   "source": [
    "power = []\n",
    "data  = []\n",
    "\n",
    "for i in range(70):\n",
    "    power.append(i * 10000)\n",
    "    motor.duty_cycle = MOTOR_BRAKE + power[-1]\n",
    "    \n",
    "    time.sleep(0.3)\n",
    "    enc.read()     # dummy read to reset the counters\n",
    "    \n",
    "    time.sleep(0.05)\n",
    "    data.append(enc.read())\n",
    "    print(power[-1], data[-1])\n",
    "    \n",
    "motor.duty_cycle = MOTOR_BRAKE"
   ]
  },
  {
   "cell_type": "code",
   "execution_count": 8,
   "metadata": {},
   "outputs": [
    {
     "data": {
      "text/plain": [
       "<matplotlib.legend.Legend at 0x6e0e6a90>"
      ]
     },
     "execution_count": 8,
     "metadata": {},
     "output_type": "execute_result"
    },
    {
     "data": {
      "image/png": "[encoded data removed]",
      "text/plain": [
       "<Figure size 432x288 with 1 Axes>"
      ]
     },
     "metadata": {
      "needs_background": "light"
     },
     "output_type": "display_data"
    }
   ],
   "source": [
    "data = np.array(data)\n",
    "\n",
    "plt.plot(power, data[:, 0], label=\"left\")\n",
    "plt.plot(power, data[:, 1], label=\"right\")\n",
    "\n",
    "plt.legend()"
   ]
  },
  {
   "cell_type": "code",
   "execution_count": null,
   "metadata": {},
   "outputs": [],
   "source": []
  },
  {
   "cell_type": "code",
   "execution_count": null,
   "metadata": {},
   "outputs": [],
   "source": []
  },
  {
   "cell_type": "code",
   "execution_count": null,
   "metadata": {},
   "outputs": [],
   "source": []
  },
  {
   "cell_type": "code",
   "execution_count": null,
   "metadata": {},
   "outputs": [],
   "source": []
  },
  {
   "cell_type": "code",
   "execution_count": null,
   "metadata": {},
   "outputs": [],
   "source": []
  }
 ],
 "metadata": {
  "kernelspec": {
   "display_name": "Python 3",
   "language": "python",
   "name": "python3"
  },
  "language_info": {
   "codemirror_mode": {
    "name": "ipython",
    "version": 3
   },
   "file_extension": ".py",
   "mimetype": "text/x-python",
   "name": "python",
   "nbconvert_exporter": "python",
   "pygments_lexer": "ipython3",
   "version": "3.7.3"
  }
 },
 "nbformat": 4,
 "nbformat_minor": 4
}
